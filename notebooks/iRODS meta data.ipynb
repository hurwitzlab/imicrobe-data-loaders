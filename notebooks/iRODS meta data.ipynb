{
 "cells": [
  {
   "cell_type": "code",
   "execution_count": null,
   "metadata": {},
   "outputs": [],
   "source": [
    "import os\n",
    "from irods.session import iRODSSession\n",
    "from irods.models import Collection, DataObject\n",
    "from irods.query import SpecificQuery"
   ]
  },
  {
   "cell_type": "code",
   "execution_count": null,
   "metadata": {},
   "outputs": [],
   "source": [
    "env_file = os.path.expanduser('~/.irods/irods_environment.json')\n",
    "with iRODSSession(irods_env_file=env_file) as session:\n",
    "    query = session.query(Collection.name, DataObject.id, DataObject.name, DataObject.size)\n",
    "\n",
    "    for result in query.get_results():\n",
    "        print('{}/{} id={} size={}'.format(result[Collection.name], result[DataObject.name], result[DataObject.id], result[DataObject.size]))\n"
   ]
  },
  {
   "cell_type": "code",
   "execution_count": null,
   "metadata": {},
   "outputs": [],
   "source": []
  }
 ],
 "metadata": {
  "language_info": {
   "name": "python",
   "pygments_lexer": "ipython3"
  }
 },
 "nbformat": 4,
 "nbformat_minor": 2
}
