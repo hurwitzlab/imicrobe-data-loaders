{
 "cells": [
  {
   "cell_type": "code",
   "execution_count": null,
   "metadata": {},
   "outputs": [],
   "source": [
    "from collections import defaultdict\n",
    "import os\n",
    "from irods.session import iRODSSession\n",
    "from irods.models import Collection, DataObject\n",
    "from irods.exception import CollectionDoesNotExist"
   ]
  },
  {
   "cell_type": "code",
   "execution_count": null,
   "metadata": {},
   "outputs": [],
   "source": [
    "def get_project_sample_collection_paths():\n",
    "    project_to_sample_collections = defaultdict(list)\n",
    "    \n",
    "    env_file = os.path.expanduser('~/.irods/irods_environment.json')\n",
    "    with iRODSSession(irods_env_file=env_file) as irods_session:\n",
    "        # from the top\n",
    "        top = '/iplant/home/shared/imicrobe/projects'\n",
    "        project_collections = irods_session.collections.get(top).subcollections\n",
    "        for project_collection in project_collections:\n",
    "            samples_collection_path = os.path.join(project_collection.path, 'samples')\n",
    "            try:\n",
    "                sample_collections_for_project = irods_session.collections.get(samples_collection_path).subcollections\n",
    "                print('{} sample collection(s) for project {}'.format(\n",
    "                    len(sample_collections_for_project),\n",
    "                    project_collection.name))\n",
    "                    #'\\n\\t'.join([s.name for s in sample_collections_for_project])))\n",
    "            except CollectionDoesNotExist:\n",
    "                print('collection \"{}\" does not exist'.format(samples_collection_path))\n",
    "                sample_collections_for_project = []\n",
    "            project_to_sample_collections[project_collection.path].extend(\n",
    "                [s.path for s in sample_collections_for_project])\n",
    "\n",
    "        projects_with_no_sample_collections = [\n",
    "            p\n",
    "            for p, s\n",
    "            in project_to_sample_collections.items()\n",
    "            if len(s) == 0]\n",
    "        print('{} projects with no sample collections:\\n\\t{}'.format(\n",
    "            len(projects_with_no_sample_collections),\n",
    "            '\\n\\t'.join(projects_with_no_sample_collections)))\n",
    "\n",
    "    return project_to_sample_collections"
   ]
  },
  {
   "cell_type": "code",
   "execution_count": null,
   "metadata": {},
   "outputs": [],
   "source": [
    "project_to_sample_collections = get_project_sample_collection_paths()\n",
    "\n",
    "print('sample collection paths:\\n\\t{}'.format('\\n\\t'.join([\n",
    "    p.path + ':' + '\\n\\t'.join(s)\n",
    "    for\n",
    "    p, s\n",
    "    in project_to_sample_collections.items()])))\n",
    "\n",
    "print('projects without sample collections:\\n\\t{}'.format(\n",
    "    '\\n\\t'.join([\n",
    "        p\n",
    "        for\n",
    "        p, s\n",
    "        in project_to_sample_collections.items()\n",
    "        if len(s) == 0])))"
   ]
  }
 ],
 "metadata": {
  "language_info": {
   "name": "python",
   "pygments_lexer": "ipython3"
  }
 },
 "nbformat": 4,
 "nbformat_minor": 2
}
